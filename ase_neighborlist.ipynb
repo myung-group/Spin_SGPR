import ase
import numpy as np
from ase.io import read, write

from ase.neighborlist import NeighborList
from ase.neighborlist import natural_cutoffs
from ase.neighborlist import NewPrimitiveNeighborList

a=read('POSCAR')
print(a[0])

cutoff=natural_cutoffs(a)
print(cutoff[0])

nl = NeighborList(cutoff)
nl.update(a)
indices, offsets = nl.get_neighbors(0)

nl.get_neighbors(0)